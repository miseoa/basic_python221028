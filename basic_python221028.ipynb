{
  "nbformat": 4,
  "nbformat_minor": 0,
  "metadata": {
    "colab": {
      "provenance": [],
      "authorship_tag": "ABX9TyOC2GOOn/DxY/6/J9pM4LoL",
      "include_colab_link": true
    },
    "kernelspec": {
      "name": "python3",
      "display_name": "Python 3"
    },
    "language_info": {
      "name": "python"
    }
  },
  "cells": [
    {
      "cell_type": "markdown",
      "metadata": {
        "id": "view-in-github",
        "colab_type": "text"
      },
      "source": [
        "<a href=\"https://colab.research.google.com/github/miseoa/basic_python221028/blob/main/basic_python221028.ipynb\" target=\"_parent\"><img src=\"https://colab.research.google.com/assets/colab-badge.svg\" alt=\"Open In Colab\"/></a>"
      ]
    },
    {
      "cell_type": "markdown",
      "source": [
        "1. 사용자로부터 "
      ],
      "metadata": {
        "id": "d44skeyEd9pb"
      }
    },
    {
      "cell_type": "code",
      "execution_count": 1,
      "metadata": {
        "colab": {
          "base_uri": "https://localhost:8080/"
        },
        "id": "Eg97IfiLaV3A",
        "outputId": "c3571dbf-0e6e-4beb-cef1-a36c0b42f636"
      },
      "outputs": [
        {
          "output_type": "stream",
          "name": "stdout",
          "text": [
            "x의 값은?:9\n",
            "y의 값은?:6\n",
            "두 수의 합은: 15\n",
            "두 수의 차는: 3\n",
            "두 수의 곱은: 54\n",
            "두 수의 평균은: 7.5\n",
            "큰 수는? 9\n",
            "작은 수는? 6\n"
          ]
        }
      ],
      "source": [
        "x=int(input(\"x의 값은?:\"))\n",
        "y=int(input(\"y의 값은?:\"))\n",
        "\n",
        "print(\"두 수의 합은:\",x+y)\n",
        "print(\"두 수의 차는:\",x-y)\n",
        "print(\"두 수의 곱은:\",x*y)\n",
        "print(\"두 수의 평균은:\",(x+y)/2)\n",
        "print(\"큰 수는?\",max(x,y))\n",
        "print(\"작은 수는?\",min(x,y))"
      ]
    },
    {
      "cell_type": "markdown",
      "source": [
        "2.원기둥의 부피를 계산하는 프로그램을 작성하여보자. 원기둥의 부피는 다음과 같이 계산한다."
      ],
      "metadata": {
        "id": "JmEX6osZd7z8"
      }
    },
    {
      "cell_type": "code",
      "source": [
        "r=float(input(\"r값은?:\"))\n",
        "h=float(input(\"h값은?:\"))\n",
        "\n",
        "vol=3.141592*r**2*h\n",
        "print(\"원기둥의 부피는?:\",vol)"
      ],
      "metadata": {
        "colab": {
          "base_uri": "https://localhost:8080/"
        },
        "id": "H_roOZ1ncejF",
        "outputId": "e7a2bb49-98e2-4f8a-af8d-7aaecfec89d9"
      },
      "execution_count": 2,
      "outputs": [
        {
          "output_type": "stream",
          "name": "stdout",
          "text": [
            "r값은?:10\n",
            "h값은?:10\n",
            "원기둥의 부피는?: 3141.592\n"
          ]
        }
      ]
    },
    {
      "cell_type": "markdown",
      "source": [
        "3. 사용자로부터 정수를 받아서 정수의 자리수의 합을 계산하는 프로그램을 작성하여 보자. 예를 들어서 사용자가 1234를  입력하였다면 1+2+3+4를 계산하면 된다. 나머지 연산자와 정수 나눗셈 연산자의 정수 나눗셈 연산자를 적극적으로 사용하여보자(자리수는 number%10으로 계산할 수 있다. 10의 자리수는 num=num//10"
      ],
      "metadata": {
        "id": "A7EaItxwexk1"
      }
    },
    {
      "cell_type": "code",
      "source": [
        "number=int(input(\"정수를 입력하시오:\"))\n",
        "\n",
        "sum=0\n",
        "sum=sum+number%10\n",
        "number=number//10\n",
        "\n",
        "sum=sum+number%10\n",
        "number=number//10\n",
        "\n",
        "sum=sum+number%10\n",
        "number=number//10\n",
        "\n",
        "sum=sum+number%10\n",
        "number=number//10\n",
        "\n",
        "print(\"자릿수의 합은\", str(sum))\n"
      ],
      "metadata": {
        "colab": {
          "base_uri": "https://localhost:8080/"
        },
        "id": "X5NcEEgyfEsq",
        "outputId": "7813550f-292f-49b4-83c4-7b76e38d1a4e"
      },
      "execution_count": 3,
      "outputs": [
        {
          "output_type": "stream",
          "name": "stdout",
          "text": [
            "정수를 입력하시오:1234\n",
            "자릿수의 합은 10\n"
          ]
        }
      ]
    },
    {
      "cell_type": "markdown",
      "source": [
        "4.사용자로부터 투 점의 좌표 (xl, yl)과 (x2, y2)를 입럭받아서 두 점 사이의 거러를 계 산하는 프로그랩을 작셩해보자 스크렵트 모드로 작성하라 거리는 다음의 식으로 계산 \n",
        "한다."
      ],
      "metadata": {
        "id": "v2xO_m9ChH6I"
      }
    },
    {
      "cell_type": "code",
      "source": [
        "x1=int(input(\"x1의 값을 입력하시오.:\"))\n",
        "x2=int(input(\"x21의 값을 입력하시오.:\"))\n",
        "y1=int(input(\"y1의 값을 입력하시오.:\"))\n",
        "y2=int(input(\"y2의 값을 입력하시오.:\"))\n",
        "dist=((x2-x1)**2+(y2-y1)**2)**0.5\n",
        "print(\"두 점의 사이의 거리는?\", dist,\"입니다.\")"
      ],
      "metadata": {
        "colab": {
          "base_uri": "https://localhost:8080/"
        },
        "id": "KttG4LkhhfEq",
        "outputId": "689bd9bd-2ec0-4e9b-f697-57aa04ab84b7"
      },
      "execution_count": 5,
      "outputs": [
        {
          "output_type": "stream",
          "name": "stdout",
          "text": [
            "x1의 값을 입력하시오.:100\n",
            "x21의 값을 입력하시오.:0\n",
            "y1의 값을 입력하시오.:100\n",
            "y2의 값을 입력하시오.:0\n",
            "두 점의 사이의 거리는? 141.4213562373095 입니다.\n"
          ]
        }
      ]
    }
  ]
}