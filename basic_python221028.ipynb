{
  "nbformat": 4,
  "nbformat_minor": 0,
  "metadata": {
    "colab": {
      "provenance": [],
      "authorship_tag": "ABX9TyMQoLvOGMM/toH0zzRHzlTi",
      "include_colab_link": true
    },
    "kernelspec": {
      "name": "python3",
      "display_name": "Python 3"
    },
    "language_info": {
      "name": "python"
    }
  },
  "cells": [
    {
      "cell_type": "markdown",
      "metadata": {
        "id": "view-in-github",
        "colab_type": "text"
      },
      "source": [
        "<a href=\"https://colab.research.google.com/github/miseoa/basic_python221028/blob/main/basic_python221028.ipynb\" target=\"_parent\"><img src=\"https://colab.research.google.com/assets/colab-badge.svg\" alt=\"Open In Colab\"/></a>"
      ]
    },
    {
      "cell_type": "markdown",
      "source": [
        "1. 사용자로부터 "
      ],
      "metadata": {
        "id": "d44skeyEd9pb"
      }
    },
    {
      "cell_type": "code",
      "execution_count": 1,
      "metadata": {
        "colab": {
          "base_uri": "https://localhost:8080/"
        },
        "id": "Eg97IfiLaV3A",
        "outputId": "c3571dbf-0e6e-4beb-cef1-a36c0b42f636"
      },
      "outputs": [
        {
          "output_type": "stream",
          "name": "stdout",
          "text": [
            "x의 값은?:9\n",
            "y의 값은?:6\n",
            "두 수의 합은: 15\n",
            "두 수의 차는: 3\n",
            "두 수의 곱은: 54\n",
            "두 수의 평균은: 7.5\n",
            "큰 수는? 9\n",
            "작은 수는? 6\n"
          ]
        }
      ],
      "source": [
        "x=int(input(\"x의 값은?:\"))\n",
        "y=int(input(\"y의 값은?:\"))\n",
        "\n",
        "print(\"두 수의 합은:\",x+y)\n",
        "print(\"두 수의 차는:\",x-y)\n",
        "print(\"두 수의 곱은:\",x*y)\n",
        "print(\"두 수의 평균은:\",(x+y)/2)\n",
        "print(\"큰 수는?\",max(x,y))\n",
        "print(\"작은 수는?\",min(x,y))"
      ]
    },
    {
      "cell_type": "markdown",
      "source": [
        "2.원기둥의 부피를 계산하는 프로그램을 작성하여보자. 원기둥의 부피는 다음과 같이 계산한다."
      ],
      "metadata": {
        "id": "JmEX6osZd7z8"
      }
    },
    {
      "cell_type": "code",
      "source": [
        "r=float(input(\"r값은?:\"))\n",
        "h=float(input(\"h값은?:\"))\n",
        "\n",
        "vol=3.141592*r**2*h\n",
        "print(\"원기둥의 부피는?:\",vol)"
      ],
      "metadata": {
        "colab": {
          "base_uri": "https://localhost:8080/"
        },
        "id": "H_roOZ1ncejF",
        "outputId": "e7a2bb49-98e2-4f8a-af8d-7aaecfec89d9"
      },
      "execution_count": 2,
      "outputs": [
        {
          "output_type": "stream",
          "name": "stdout",
          "text": [
            "r값은?:10\n",
            "h값은?:10\n",
            "원기둥의 부피는?: 3141.592\n"
          ]
        }
      ]
    },
    {
      "cell_type": "markdown",
      "source": [
        "3. 사용자로부터 정수를 받아서 정수의 자리수의 합을 계산하는 프로그램을 작성하여 보자. 예를 들어서 사용자가 1234를  입력하였다면 1+2+3+4를 계산하면 된다. 나머지 연산자와 정수 나눗셈 연산자의 정수 나눗셈 연산자를 적극적으로 사용하여보자(자리수는 number%10으로 계산할 수 있다. 10의 자리수는 num=num//10"
      ],
      "metadata": {
        "id": "A7EaItxwexk1"
      }
    },
    {
      "cell_type": "code",
      "source": [
        "number=int(input(\"정수를 입력하시오:\"))\n",
        "\n",
        "sum=0\n",
        "sum=sum+number%10\n",
        "number=number//10\n",
        "\n",
        "sum=sum+number%10\n",
        "number=number//10\n",
        "\n",
        "sum=sum+number%10\n",
        "number=number//10\n",
        "\n",
        "sum=sum+number%10\n",
        "number=number//10\n",
        "\n",
        "print(\"자릿수의 합은\", str(sum))\n"
      ],
      "metadata": {
        "colab": {
          "base_uri": "https://localhost:8080/"
        },
        "id": "X5NcEEgyfEsq",
        "outputId": "7813550f-292f-49b4-83c4-7b76e38d1a4e"
      },
      "execution_count": 3,
      "outputs": [
        {
          "output_type": "stream",
          "name": "stdout",
          "text": [
            "정수를 입력하시오:1234\n",
            "자릿수의 합은 10\n"
          ]
        }
      ]
    },
    {
      "cell_type": "markdown",
      "source": [
        "4.사용자로부터 투 점의 좌표 (xl, yl)과 (x2, y2)를 입럭받아서 두 점 사이의 거러를 계 산하는 프로그랩을 작셩해보자 스크렵트 모드로 작성하라 거리는 다음의 식으로 계산 \n",
        "한다."
      ],
      "metadata": {
        "id": "v2xO_m9ChH6I"
      }
    },
    {
      "cell_type": "code",
      "source": [
        "x1=int(input(\"x1의 값을 입력하시오.:\"))\n",
        "x2=int(input(\"x21의 값을 입력하시오.:\"))\n",
        "y1=int(input(\"y1의 값을 입력하시오.:\"))\n",
        "y2=int(input(\"y2의 값을 입력하시오.:\"))\n",
        "dist=((x2-x1)**2+(y2-y1)**2)**0.5\n",
        "print(\"두 점의 사이의 거리는?\", dist,\"입니다.\")"
      ],
      "metadata": {
        "colab": {
          "base_uri": "https://localhost:8080/"
        },
        "id": "KttG4LkhhfEq",
        "outputId": "689bd9bd-2ec0-4e9b-f697-57aa04ab84b7"
      },
      "execution_count": 5,
      "outputs": [
        {
          "output_type": "stream",
          "name": "stdout",
          "text": [
            "x1의 값을 입력하시오.:100\n",
            "x21의 값을 입력하시오.:0\n",
            "y1의 값을 입력하시오.:100\n",
            "y2의 값을 입력하시오.:0\n",
            "두 점의 사이의 거리는? 141.4213562373095 입니다.\n"
          ]
        }
      ]
    },
    {
      "cell_type": "markdown",
      "source": [
        "5. 4번문제에서 계산한 거리가 맞는지, 터틀그 \n",
        "래픽으로 확인해보자. 거북이를 읜쪽으로 45 \n",
        "도 회전하여 141만큼 전진시킨다. 다시 거북이 \n",
        "를 (0, 0)으로 이동하고 0도를 가리키게 한 후 \n",
        "에 100만큼 전진하고 왼쪽으로 90도 회전하여 \n",
        "100만큼 전진한다. 화면에 그러진 직선이 일치 \n",
        "하는가?(거북이의 방향을 설정하려면 setheadingO을 사옹하는 것이 편리하다. 예를 듈어서 0도를 가리 키게 하려면 setheading(0)이 된다.)"
      ],
      "metadata": {
        "id": "P4Zr-2zTm81s"
      }
    },
    {
      "cell_type": "code",
      "source": [
        "import turtle\n",
        "t=turtle.Turtle()\n",
        "t.shape(\"turtle\")\n",
        "t.left(45)\n",
        "t.forward(141)\n",
        "t.setheading(0)\n",
        "t.goto(0,0)\n",
        "t.forward(100)\n",
        "t.lt(90)\n",
        "t.fd(100)"
      ],
      "metadata": {
        "id": "gFKSVsENnDL6"
      },
      "execution_count": null,
      "outputs": []
    },
    {
      "cell_type": "markdown",
      "source": [
        "6. 사용자로부터 두점을업럭받。圖 터틀그래퍽을이용하여 두점을연결하는직선을그 린다 직션의 끝점에 직션의 길이를 계산하여 츨럭해보자"
      ],
      "metadata": {
        "id": "v-AQ86u-pTv3"
      }
    },
    {
      "cell_type": "code",
      "source": [
        "import turtle\n",
        "t=turtle.Turtle()\n",
        "t.shape(\"turtle\")\n",
        "x1=int(input(\"x1:\"))\n",
        "x1:0\n",
        "y1=int(input(\"y1:\"))\n",
        "y1:0\n",
        "x2=int(input(\"x2:\"))\n",
        "x2:100\n",
        "y2=int(input(\"y2:\"))\n",
        "y2:100\n",
        "dist=((x1-x2)**2+(y1-y2)**2)**0.5\n",
        "t.up()\n",
        "t.goto(x1,y1)\n",
        "t.down()\n",
        "t.goto(x2,y2)\n",
        "t.write(\"점의 길이=\"+str(dist))\n",
        " "
      ],
      "metadata": {
        "id": "CVSEaN5Urgei"
      },
      "execution_count": null,
      "outputs": []
    }
  ]
}